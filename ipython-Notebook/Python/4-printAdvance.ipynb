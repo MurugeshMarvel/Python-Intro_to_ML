{
 "cells": [
  {
   "cell_type": "markdown",
   "metadata": {},
   "source": [
    "## In basics.ipynb we learned about various print formatting. In this notebook I would like to dive deeper into this"
   ]
  },
  {
   "cell_type": "markdown",
   "metadata": {},
   "source": [
    "First of all, let's recap what we have learned in basics.ipynb"
   ]
  },
  {
   "cell_type": "markdown",
   "metadata": {},
   "source": [
    "There are three ways in which we can print strings."
   ]
  },
  {
   "cell_type": "markdown",
   "metadata": {},
   "source": [
    "# 1"
   ]
  },
  {
   "cell_type": "code",
   "execution_count": 1,
   "metadata": {},
   "outputs": [
    {
     "name": "stdout",
     "output_type": "stream",
     "text": [
      "Hi there\n"
     ]
    }
   ],
   "source": [
    "print(\"Hi there\")"
   ]
  },
  {
   "cell_type": "code",
   "execution_count": 6,
   "metadata": {},
   "outputs": [
    {
     "name": "stdout",
     "output_type": "stream",
     "text": [
      "('Hi there, my name is', 'Murugesh', 'and I am', 22, 'years old')\n"
     ]
    }
   ],
   "source": [
    "name = \"Murugesh\"\n",
    "age = 22\n",
    "print(\"Hi there, my name is\",name,\"and I am\",age,\"years old\")"
   ]
  },
  {
   "cell_type": "code",
   "execution_count": 7,
   "metadata": {},
   "outputs": [
    {
     "ename": "TypeError",
     "evalue": "cannot concatenate 'str' and 'int' objects",
     "output_type": "error",
     "traceback": [
      "\u001b[0;31m---------------------------------------------------------------------------\u001b[0m",
      "\u001b[0;31mTypeError\u001b[0m                                 Traceback (most recent call last)",
      "\u001b[0;32m<ipython-input-7-503974f2812b>\u001b[0m in \u001b[0;36m<module>\u001b[0;34m()\u001b[0m\n\u001b[1;32m      1\u001b[0m \u001b[0;31m#another way\u001b[0m\u001b[0;34m\u001b[0m\u001b[0;34m\u001b[0m\u001b[0m\n\u001b[0;32m----> 2\u001b[0;31m \u001b[0;32mprint\u001b[0m\u001b[0;34m(\u001b[0m\u001b[0;34m\"HI there, my name is \"\u001b[0m \u001b[0;34m+\u001b[0m \u001b[0mname\u001b[0m \u001b[0;34m+\u001b[0m \u001b[0;34m\" and I am \"\u001b[0m\u001b[0;34m+\u001b[0m \u001b[0mage\u001b[0m \u001b[0;34m+\u001b[0m \u001b[0;34m\" years old\"\u001b[0m\u001b[0;34m)\u001b[0m\u001b[0;34m\u001b[0m\u001b[0m\n\u001b[0m",
      "\u001b[0;31mTypeError\u001b[0m: cannot concatenate 'str' and 'int' objects"
     ]
    }
   ],
   "source": [
    "#another way\n",
    "print(\"HI there, my name is \" + name + \" and I am \"+ age + \" years old\")"
   ]
  },
  {
   "cell_type": "markdown",
   "metadata": {},
   "source": [
    "Since, print function takes only strings as an argument we have to cast numbers to string in order to print it."
   ]
  },
  {
   "cell_type": "code",
   "execution_count": 8,
   "metadata": {},
   "outputs": [
    {
     "name": "stdout",
     "output_type": "stream",
     "text": [
      "Hi there, my name is Murugesh and I am 22 years old\n"
     ]
    }
   ],
   "source": [
    "print(\"Hi there, my name is \"+ name + \" and I am \" + str(age) + \" years old\")"
   ]
  },
  {
   "cell_type": "markdown",
   "metadata": {},
   "source": [
    "# 2"
   ]
  },
  {
   "cell_type": "code",
   "execution_count": 9,
   "metadata": {},
   "outputs": [],
   "source": [
    "#This and following type is used when you want to print sophisticated strings"
   ]
  },
  {
   "cell_type": "code",
   "execution_count": 11,
   "metadata": {},
   "outputs": [
    {
     "name": "stdout",
     "output_type": "stream",
     "text": [
      "Hi there, my name is Murugesh and I am 22 years old\n"
     ]
    }
   ],
   "source": [
    "name =\"Murugesh\"\n",
    "age = 22\n",
    "print(\"Hi there, my name is %s and I am %d years old\" % (name,age)) #kind of C print st"
   ]
  },
  {
   "cell_type": "markdown",
   "metadata": {},
   "source": [
    "It's very useful when you are dealing with multiple variables of different types. You can also specify field/precision width. We will see later in this notebook how we can use field/precision width."
   ]
  },
  {
   "cell_type": "code",
   "execution_count": 12,
   "metadata": {},
   "outputs": [],
   "source": [
    "name = \"Murugesh\"\n",
    "age = 22\n",
    "city = \"Pondy\"\n",
    "interests = [\"Machine Learning\",\"Programming\",\"Python\"]"
   ]
  },
  {
   "cell_type": "code",
   "execution_count": 13,
   "metadata": {},
   "outputs": [
    {
     "name": "stdout",
     "output_type": "stream",
     "text": [
      "('Hi there, my name is Murugesh and I am 22 years old. I live in Pondy. My area of interests are', 'Machine Learning, Programming, Python')\n"
     ]
    }
   ],
   "source": [
    "print(\"Hi there, my name is %s and I am %d years old. I live in %s. My area of interests are\" % (name, age, city),\", \".join(map(str,interests)))"
   ]
  },
  {
   "cell_type": "markdown",
   "metadata": {},
   "source": [
    "What we have done special in above line is, we have converted list into well formatted string.<br>\n",
    "<b>\", \".join(map(str,interests)))</b>"
   ]
  },
  {
   "cell_type": "markdown",
   "metadata": {},
   "source": [
    "# 3"
   ]
  },
  {
   "cell_type": "code",
   "execution_count": 15,
   "metadata": {},
   "outputs": [
    {
     "name": "stdout",
     "output_type": "stream",
     "text": [
      "Hi there, my name is Murugesh and I am 22 years old\n"
     ]
    }
   ],
   "source": [
    "#Another way of printing sophisticated string\n",
    "name = \"Murugesh\"\n",
    "age = 22\n",
    "print(\"Hi there, my name is {} and I am {} years old\".format(name, age))"
   ]
  },
  {
   "cell_type": "markdown",
   "metadata": {},
   "source": [
    "We saw above example in basics.ipynb. But one thing I didn't mention about is ordering. Let's see.."
   ]
  },
  {
   "cell_type": "markdown",
   "metadata": {},
   "source": [
    "What if, I want to write age first then name in formatting list as shown below <br>\n",
    "print(\"Hi there, my name is {} and I am {} years old\".<b>format(age, name))</b><br>\n",
    "Let's see what it outputs when we do this."
   ]
  },
  {
   "cell_type": "code",
   "execution_count": 16,
   "metadata": {},
   "outputs": [
    {
     "name": "stdout",
     "output_type": "stream",
     "text": [
      "Hi there, my name is 22 and I am Murugesh years old\n"
     ]
    }
   ],
   "source": [
    "print(\"Hi there, my name is {} and I am {} years old\".format(age, name))"
   ]
  },
  {
   "cell_type": "markdown",
   "metadata": {},
   "source": [
    "It does not make any sense. And the reason is it maintains the order. Ok, but what if I want to print name first and age in second curly brackets. "
   ]
  },
  {
   "cell_type": "code",
   "execution_count": 17,
   "metadata": {},
   "outputs": [
    {
     "name": "stdout",
     "output_type": "stream",
     "text": [
      "Hi there, my name is Murugesh and I am 22 years old\n"
     ]
    }
   ],
   "source": [
    "print(\"Hi there, my name is {1} and I am {0} years old\".format(age, name))"
   ]
  },
  {
   "cell_type": "markdown",
   "metadata": {},
   "source": [
    "# PrecisionWidth and FieldWidth"
   ]
  },
  {
   "cell_type": "markdown",
   "metadata": {},
   "source": [
    "Fieldwidth is the width of the entire number and precision is the width towards the right. The default Precision Width is set to 6."
   ]
  },
  {
   "cell_type": "code",
   "execution_count": 18,
   "metadata": {},
   "outputs": [
    {
     "name": "stdout",
     "output_type": "stream",
     "text": [
      "3.121312\n"
     ]
    }
   ],
   "source": [
    "print(\"%f\" % 3.121312312312)"
   ]
  },
  {
   "cell_type": "markdown",
   "metadata": {},
   "source": [
    "To specify the number of decimal points, <b>'%(fieldwidth).(precisionwidth)f'</b> is used."
   ]
  },
  {
   "cell_type": "code",
   "execution_count": 19,
   "metadata": {},
   "outputs": [
    {
     "name": "stdout",
     "output_type": "stream",
     "text": [
      "3.12131\n"
     ]
    }
   ],
   "source": [
    "print(\"%.5f\" % 3.121312312312)"
   ]
  },
  {
   "cell_type": "markdown",
   "metadata": {},
   "source": [
    "If the field width is set more than the necessary than the data right aligns itself to adjust to the specified values."
   ]
  },
  {
   "cell_type": "code",
   "execution_count": 20,
   "metadata": {},
   "outputs": [
    {
     "name": "stdout",
     "output_type": "stream",
     "text": [
      "  3.12131\n"
     ]
    }
   ],
   "source": [
    "print(\"%9.5f\" % 3.121312312312)"
   ]
  },
  {
   "cell_type": "code",
   "execution_count": 21,
   "metadata": {},
   "outputs": [
    {
     "name": "stdout",
     "output_type": "stream",
     "text": [
      "00000000000003.12131\n"
     ]
    }
   ],
   "source": [
    "print(\"%020.5f\" % 3.121312312312) #zero padding"
   ]
  },
  {
   "cell_type": "code",
   "execution_count": null,
   "metadata": {},
   "outputs": [],
   "source": []
  },
  {
   "cell_type": "code",
   "execution_count": null,
   "metadata": {},
   "outputs": [],
   "source": []
  },
  {
   "cell_type": "code",
   "execution_count": null,
   "metadata": {},
   "outputs": [],
   "source": []
  }
 ],
 "metadata": {
  "anaconda-cloud": {},
  "kernelspec": {
   "display_name": "Python 2",
   "language": "python",
   "name": "python2"
  },
  "language_info": {
   "codemirror_mode": {
    "name": "ipython",
    "version": 2
   },
   "file_extension": ".py",
   "mimetype": "text/x-python",
   "name": "python",
   "nbconvert_exporter": "python",
   "pygments_lexer": "ipython2",
   "version": "2.7.14"
  }
 },
 "nbformat": 4,
 "nbformat_minor": 1
}
